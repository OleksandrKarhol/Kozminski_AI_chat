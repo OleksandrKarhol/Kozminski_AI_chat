{
 "cells": [
  {
   "cell_type": "code",
   "execution_count": 1,
   "metadata": {},
   "outputs": [],
   "source": [
    "import pandas as pd \n",
    "import numpy as np "
   ]
  },
  {
   "cell_type": "code",
   "execution_count": 2,
   "metadata": {},
   "outputs": [],
   "source": [
    "# remove punctuation\n",
    "import string\n",
    "\n",
    "def remove_punct(text):\n",
    "    line_no_punct = text.translate(str.maketrans(\"\", \"\", string.punctuation))\n",
    "    return line_no_punct\n"
   ]
  },
  {
   "cell_type": "code",
   "execution_count": 3,
   "metadata": {},
   "outputs": [],
   "source": [
    "# tokenization \n",
    "from nltk.tokenize import word_tokenize\n",
    "\n",
    "def tokenize_text(text):\n",
    "    word_tokens = word_tokenize(text)\n",
    "    return word_tokens\n"
   ]
  },
  {
   "cell_type": "code",
   "execution_count": 4,
   "metadata": {},
   "outputs": [],
   "source": [
    "# lowercase data \n",
    "def lowercase_text(text):\n",
    "    new_line = [word.lower() for word in text]\n",
    "    return new_line"
   ]
  },
  {
   "cell_type": "code",
   "execution_count": 5,
   "metadata": {},
   "outputs": [
    {
     "name": "stderr",
     "output_type": "stream",
     "text": [
      "[nltk_data] Downloading package stopwords to /Users/apple/nltk_data...\n",
      "[nltk_data]   Package stopwords is already up-to-date!\n"
     ]
    }
   ],
   "source": [
    "from nltk.corpus import stopwords\n",
    "from nltk.tokenize import word_tokenize\n",
    "import nltk\n",
    "nltk.download('stopwords')\n",
    "\n",
    "def remove_stop_words(text):\n",
    " \n",
    "    stop_words = set(stopwords.words('english'))\n",
    "    new_sentence = [w for w in text if not w.lower() in stop_words]\n",
    "    return new_sentence"
   ]
  },
  {
   "cell_type": "code",
   "execution_count": 6,
   "metadata": {},
   "outputs": [
    {
     "name": "stderr",
     "output_type": "stream",
     "text": [
      "[nltk_data] Downloading package wordnet to /Users/apple/nltk_data...\n",
      "[nltk_data]   Package wordnet is already up-to-date!\n",
      "[nltk_data] Downloading package omw-1.4 to /Users/apple/nltk_data...\n",
      "[nltk_data]   Package omw-1.4 is already up-to-date!\n"
     ]
    }
   ],
   "source": [
    "# Lemmitization\n",
    "from nltk.stem import WordNetLemmatizer\n",
    "nltk.download(\"wordnet\")\n",
    "nltk.download(\"omw-1.4\")\n",
    "\n",
    "# Initialize wordnet lemmatizer\n",
    "wnl = WordNetLemmatizer()\n",
    "\n",
    "def lemitization(text):\n",
    "\n",
    "    new_sentence = []\n",
    "    for word in text:\n",
    "        word = wnl.lemmatize(word, pos=\"v\")\n",
    "        new_sentence.append(word)\n",
    "    return new_sentence"
   ]
  },
  {
   "cell_type": "code",
   "execution_count": 7,
   "metadata": {},
   "outputs": [],
   "source": [
    "# Join the tokens back into a string\n",
    "\n",
    "def join_tokens(text):\n",
    "    processed_text = ' '.join(text)\n",
    "    return processed_text\n"
   ]
  },
  {
   "cell_type": "code",
   "execution_count": 8,
   "metadata": {},
   "outputs": [],
   "source": [
    "# bring all together \n",
    "def preprocess_text(text):\n",
    "    text = remove_punct(text)\n",
    "    text = tokenize_text(text)\n",
    "    text = lowercase_text(text)\n",
    "    text = remove_stop_words(text)\n",
    "    text = remove_stop_words(text)\n",
    "    text = lemitization (text)\n",
    "    text = join_tokens(text)\n",
    "    return text "
   ]
  },
  {
   "cell_type": "code",
   "execution_count": 9,
   "metadata": {},
   "outputs": [],
   "source": [
    "labels_dict = {'4': 'Educational resources',\n",
    " '6': 'Open Days',\n",
    " '1': 'Campus',\n",
    " '7': 'Programmes and Degrees',\n",
    " '8': 'Scholarship\\xa0',\n",
    " '5': 'Internship',\n",
    " '0': 'Admissions and Application Process',\n",
    " '10': 'Study and Internship abroad',\n",
    " '3': 'Double Degree programs',\n",
    " '2': 'Contacts',\n",
    " '9': 'Student Housing'}"
   ]
  },
  {
   "cell_type": "code",
   "execution_count": 10,
   "metadata": {},
   "outputs": [
    {
     "name": "stderr",
     "output_type": "stream",
     "text": [
      "2023-09-13 01:39:38.339619: I tensorflow/core/platform/cpu_feature_guard.cc:182] This TensorFlow binary is optimized to use available CPU instructions in performance-critical operations.\n",
      "To enable the following instructions: AVX2 FMA, in other operations, rebuild TensorFlow with the appropriate compiler flags.\n"
     ]
    }
   ],
   "source": [
    "import numpy as np\n",
    "import tensorflow as tf\n",
    "from tensorflow import keras\n",
    "from sklearn.feature_extraction.text import CountVectorizer\n",
    "import pickle\n",
    "\n",
    "loaded_model = keras.models.load_model(\"models/reduced_data_BOW.h5\")\n",
    "\n",
    "def predict(text):\n",
    "    text = preprocess_text(text)\n",
    "    with open('vectors/reduced_data_vectorizer.txt', 'rb') as f:\n",
    "        vectorizer = pickle.load(f)\n",
    "    X_new = vectorizer.transform([text]).toarray()\n",
    "    predictions_probs = loaded_model.predict(X_new)\n",
    "\n",
    "    prediction = np.argmax(predictions_probs, axis=1)\n",
    "    return labels_dict[str(int(prediction))]"
   ]
  },
  {
   "cell_type": "code",
   "execution_count": null,
   "metadata": {},
   "outputs": [],
   "source": [
    "#test \n",
    "from test import test_model\n",
    "test_model(predict, 3)"
   ]
  }
 ],
 "metadata": {
  "kernelspec": {
   "display_name": "my_env",
   "language": "python",
   "name": "python3"
  },
  "language_info": {
   "codemirror_mode": {
    "name": "ipython",
    "version": 3
   },
   "file_extension": ".py",
   "mimetype": "text/x-python",
   "name": "python",
   "nbconvert_exporter": "python",
   "pygments_lexer": "ipython3",
   "version": "3.9.13"
  },
  "orig_nbformat": 4
 },
 "nbformat": 4,
 "nbformat_minor": 2
}
