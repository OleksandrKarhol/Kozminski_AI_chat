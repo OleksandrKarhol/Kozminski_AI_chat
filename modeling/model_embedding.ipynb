{
 "cells": [
  {
   "cell_type": "code",
   "execution_count": 17,
   "metadata": {},
   "outputs": [],
   "source": [
    "# import dependencies \n",
    "# label encoding\n",
    "# split data \n",
    "# Make Bag of Words \n",
    "# make a model \n",
    "# evaluate \n",
    "# save "
   ]
  },
  {
   "cell_type": "code",
   "execution_count": 2,
   "metadata": {},
   "outputs": [],
   "source": [
    "import pandas as pd \n",
    "import numpy as np \n",
    "from ast import literal_eval"
   ]
  },
  {
   "cell_type": "code",
   "execution_count": 3,
   "metadata": {},
   "outputs": [
    {
     "data": {
      "text/html": [
       "<div>\n",
       "<style scoped>\n",
       "    .dataframe tbody tr th:only-of-type {\n",
       "        vertical-align: middle;\n",
       "    }\n",
       "\n",
       "    .dataframe tbody tr th {\n",
       "        vertical-align: top;\n",
       "    }\n",
       "\n",
       "    .dataframe thead th {\n",
       "        text-align: right;\n",
       "    }\n",
       "</style>\n",
       "<table border=\"1\" class=\"dataframe\">\n",
       "  <thead>\n",
       "    <tr style=\"text-align: right;\">\n",
       "      <th></th>\n",
       "      <th>Category</th>\n",
       "      <th>Question</th>\n",
       "      <th>embedding</th>\n",
       "    </tr>\n",
       "  </thead>\n",
       "  <tbody>\n",
       "    <tr>\n",
       "      <th>0</th>\n",
       "      <td>Educational resources</td>\n",
       "      <td>librarys open hours</td>\n",
       "      <td>[-0.008088679052889347, 0.00560748903080821, -...</td>\n",
       "    </tr>\n",
       "    <tr>\n",
       "      <th>1</th>\n",
       "      <td>Educational resources</td>\n",
       "      <td>access librarys resources remotely</td>\n",
       "      <td>[-0.020060865208506584, -0.014022785238921642,...</td>\n",
       "    </tr>\n",
       "    <tr>\n",
       "      <th>2</th>\n",
       "      <td>Educational resources</td>\n",
       "      <td>library regulations borrow book</td>\n",
       "      <td>[0.0059623559936881065, -0.0011123931035399437...</td>\n",
       "    </tr>\n",
       "    <tr>\n",
       "      <th>3</th>\n",
       "      <td>Educational resources</td>\n",
       "      <td>renew borrow book</td>\n",
       "      <td>[-0.01162764336913824, -0.021848950535058975, ...</td>\n",
       "    </tr>\n",
       "    <tr>\n",
       "      <th>4</th>\n",
       "      <td>Educational resources</td>\n",
       "      <td>fin late return library materials</td>\n",
       "      <td>[-0.025956762954592705, -0.0002834359183907509...</td>\n",
       "    </tr>\n",
       "    <tr>\n",
       "      <th>5</th>\n",
       "      <td>Educational resources</td>\n",
       "      <td>request book another library interlibrary loan</td>\n",
       "      <td>[-0.010385137051343918, -0.011515585705637932,...</td>\n",
       "    </tr>\n",
       "    <tr>\n",
       "      <th>6</th>\n",
       "      <td>Educational resources</td>\n",
       "      <td>type databases available students kozminski un...</td>\n",
       "      <td>[-0.0025029454845935106, 0.003250154433771968,...</td>\n",
       "    </tr>\n",
       "    <tr>\n",
       "      <th>7</th>\n",
       "      <td>Educational resources</td>\n",
       "      <td>access online databases offcampus</td>\n",
       "      <td>[-0.011010547168552876, -0.018531490117311478,...</td>\n",
       "    </tr>\n",
       "    <tr>\n",
       "      <th>8</th>\n",
       "      <td>Educational resources</td>\n",
       "      <td>process request article online database</td>\n",
       "      <td>[-0.011216829530894756, 0.0053767547942698, -0...</td>\n",
       "    </tr>\n",
       "    <tr>\n",
       "      <th>9</th>\n",
       "      <td>Educational resources</td>\n",
       "      <td>workshops train sessions use library resources</td>\n",
       "      <td>[-0.01877945102751255, 0.0004899293417111039, ...</td>\n",
       "    </tr>\n",
       "  </tbody>\n",
       "</table>\n",
       "</div>"
      ],
      "text/plain": [
       "                Category                                           Question   \n",
       "0  Educational resources                                librarys open hours  \\\n",
       "1  Educational resources                 access librarys resources remotely   \n",
       "2  Educational resources                    library regulations borrow book   \n",
       "3  Educational resources                                  renew borrow book   \n",
       "4  Educational resources                  fin late return library materials   \n",
       "5  Educational resources     request book another library interlibrary loan   \n",
       "6  Educational resources  type databases available students kozminski un...   \n",
       "7  Educational resources                  access online databases offcampus   \n",
       "8  Educational resources            process request article online database   \n",
       "9  Educational resources     workshops train sessions use library resources   \n",
       "\n",
       "                                           embedding  \n",
       "0  [-0.008088679052889347, 0.00560748903080821, -...  \n",
       "1  [-0.020060865208506584, -0.014022785238921642,...  \n",
       "2  [0.0059623559936881065, -0.0011123931035399437...  \n",
       "3  [-0.01162764336913824, -0.021848950535058975, ...  \n",
       "4  [-0.025956762954592705, -0.0002834359183907509...  \n",
       "5  [-0.010385137051343918, -0.011515585705637932,...  \n",
       "6  [-0.0025029454845935106, 0.003250154433771968,...  \n",
       "7  [-0.011010547168552876, -0.018531490117311478,...  \n",
       "8  [-0.011216829530894756, 0.0053767547942698, -0...  \n",
       "9  [-0.01877945102751255, 0.0004899293417111039, ...  "
      ]
     },
     "execution_count": 3,
     "metadata": {},
     "output_type": "execute_result"
    }
   ],
   "source": [
    "# load the dataset\n",
    "directory = 'Kozminski_AI_chat/Word_embeddings/data_reduced/subjects_embeddings.csv' \n",
    "df = pd.read_csv(directory)\n",
    "df['embedding'] = df.embedding.apply(literal_eval).apply(np.array)\n",
    "df.head(10)"
   ]
  },
  {
   "cell_type": "code",
   "execution_count": 4,
   "metadata": {},
   "outputs": [
    {
     "name": "stdout",
     "output_type": "stream",
     "text": [
      "[ 4  6  1  7  8  5  0 10  3  2  9] ['Educational resources' 'Open Days' 'Campus' 'Programmes and Degrees'\n",
      " 'Scholarship\\xa0' 'Internship' 'Admissions and Application Process'\n",
      " 'Study and Internship abroad' 'Double Degree programs' 'Contacts'\n",
      " 'Student Housing']\n"
     ]
    }
   ],
   "source": [
    "# label encoding\n",
    "from sklearn import preprocessing\n",
    "  \n",
    "label_encoder = preprocessing.LabelEncoder()\n",
    "\n",
    "y_data = label_encoder.fit_transform(df['Category'])\n",
    "df['Encoded_labels'] = y_data\n",
    "\n",
    "list_of_labels = df['Category'].unique()\n",
    "list_of_encoded_labels = df['Encoded_labels'].unique()\n",
    "print(list_of_encoded_labels, list_of_labels)\n"
   ]
  },
  {
   "cell_type": "code",
   "execution_count": 6,
   "metadata": {},
   "outputs": [
    {
     "data": {
      "text/plain": [
       "{'4': 'Educational resources',\n",
       " '6': 'Open Days',\n",
       " '1': 'Campus',\n",
       " '7': 'Programmes and Degrees',\n",
       " '8': 'Scholarship\\xa0',\n",
       " '5': 'Internship',\n",
       " '0': 'Admissions and Application Process',\n",
       " '10': 'Study and Internship abroad',\n",
       " '3': 'Double Degree programs',\n",
       " '2': 'Contacts',\n",
       " '9': 'Student Housing'}"
      ]
     },
     "execution_count": 6,
     "metadata": {},
     "output_type": "execute_result"
    }
   ],
   "source": [
    "labels_dict = {}\n",
    "for x in range(len(list_of_encoded_labels)):\n",
    "    labels_dict[f'{list_of_encoded_labels[x]}'] = list_of_labels[x]\n",
    "\n",
    "labels_dict"
   ]
  },
  {
   "cell_type": "code",
   "execution_count": 5,
   "metadata": {},
   "outputs": [
    {
     "name": "stdout",
     "output_type": "stream",
     "text": [
      "[array([-0.00808868,  0.00560749, -0.02206132, ..., -0.02223146,\n",
      "         0.02296873, -0.03028469])\n",
      " array([-0.02006087, -0.01402279, -0.00060655, ..., -0.00483471,\n",
      "         0.00575139,  0.00058797])\n",
      " array([ 0.00596236, -0.00111239, -0.01698863, ..., -0.01742897,\n",
      "         0.01130681, -0.01678977])                               ...\n",
      " array([ 0.00715765,  0.00147363,  0.00102119, ...,  0.00226478,\n",
      "         0.00558555, -0.02901088])\n",
      " array([ 0.01167676, -0.00632609, -0.0019049 , ...,  0.00020023,\n",
      "        -0.00374618, -0.0374335 ])\n",
      " array([ 0.00471839,  0.00557066, -0.00910001, ..., -0.02067433,\n",
      "         0.0095605 , -0.01088014])                              ]\n",
      "Training Data : (3123, 1536)\n",
      "Testing Data :  (1041, 1536)\n"
     ]
    }
   ],
   "source": [
    "# Split data\n",
    "from sklearn.model_selection import train_test_split\n",
    "\n",
    "x_data = df['embedding'].values\n",
    "X_train, X_test, y_train, y_test = train_test_split(x_data, y_data, test_size=0.25, random_state=123)\n",
    "\n",
    "# Convert sparse matrix to dense format\n",
    "X_train = np.vstack(X_train)\n",
    "X_test = np.vstack(X_test)\n",
    "\n",
    "\n",
    "print('Training Data :', X_train.shape)\n",
    "print('Testing Data : ', X_test.shape)"
   ]
  },
  {
   "cell_type": "code",
   "execution_count": 7,
   "metadata": {},
   "outputs": [
    {
     "name": "stderr",
     "output_type": "stream",
     "text": [
      "2023-09-13 00:32:30.136336: I tensorflow/core/platform/cpu_feature_guard.cc:182] This TensorFlow binary is optimized to use available CPU instructions in performance-critical operations.\n",
      "To enable the following instructions: AVX2 FMA, in other operations, rebuild TensorFlow with the appropriate compiler flags.\n"
     ]
    }
   ],
   "source": [
    "# Build the model \n",
    "\n",
    "import numpy as np\n",
    "import tensorflow as tf\n",
    "from tensorflow import keras\n",
    "from tensorflow.keras.models import Sequential\n",
    "from tensorflow.keras.layers import Dense, Dropout\n",
    "from sklearn.model_selection import train_test_split\n",
    "from sklearn.metrics import confusion_matrix, classification_report\n",
    "import matplotlib.pyplot as plt\n",
    "\n",
    "# Define the number of classes (60 in your case)\n",
    "num_classes = 11\n",
    "\n",
    "# Build the neural network model\n",
    "model = keras.Sequential([\n",
    "    keras.layers.Dense(512, activation='relu', input_shape=(1536,)),\n",
    "    keras.layers.Dropout(0.5),\n",
    "    keras.layers.Dense(num_classes, activation='softmax')\n",
    "])\n",
    "\n",
    "# Compile the model\n",
    "model.compile(optimizer='adam',\n",
    "              loss='sparse_categorical_crossentropy',\n",
    "              metrics=['accuracy'])\n"
   ]
  },
  {
   "cell_type": "code",
   "execution_count": 8,
   "metadata": {},
   "outputs": [
    {
     "name": "stdout",
     "output_type": "stream",
     "text": [
      "Epoch 1/10\n",
      "98/98 [==============================] - 2s 10ms/step - loss: 1.4079 - accuracy: 0.7246 - val_loss: 0.6343 - val_accuracy: 0.8905\n",
      "Epoch 2/10\n",
      "98/98 [==============================] - 1s 8ms/step - loss: 0.4397 - accuracy: 0.9039 - val_loss: 0.3304 - val_accuracy: 0.9280\n",
      "Epoch 3/10\n",
      "98/98 [==============================] - 1s 8ms/step - loss: 0.2653 - accuracy: 0.9324 - val_loss: 0.2576 - val_accuracy: 0.9356\n",
      "Epoch 4/10\n",
      "98/98 [==============================] - 1s 9ms/step - loss: 0.1974 - accuracy: 0.9523 - val_loss: 0.2251 - val_accuracy: 0.9481\n",
      "Epoch 5/10\n",
      "98/98 [==============================] - 1s 15ms/step - loss: 0.1652 - accuracy: 0.9571 - val_loss: 0.2052 - val_accuracy: 0.9529\n",
      "Epoch 6/10\n",
      "98/98 [==============================] - 1s 9ms/step - loss: 0.1348 - accuracy: 0.9651 - val_loss: 0.1894 - val_accuracy: 0.9520\n",
      "Epoch 7/10\n",
      "98/98 [==============================] - 1s 9ms/step - loss: 0.1156 - accuracy: 0.9702 - val_loss: 0.1762 - val_accuracy: 0.9597\n",
      "Epoch 8/10\n",
      "98/98 [==============================] - 1s 9ms/step - loss: 0.1052 - accuracy: 0.9737 - val_loss: 0.1822 - val_accuracy: 0.9510\n",
      "Epoch 9/10\n",
      "98/98 [==============================] - 1s 11ms/step - loss: 0.0876 - accuracy: 0.9773 - val_loss: 0.1804 - val_accuracy: 0.9558\n",
      "Epoch 10/10\n",
      "98/98 [==============================] - 1s 10ms/step - loss: 0.0801 - accuracy: 0.9805 - val_loss: 0.1776 - val_accuracy: 0.9587\n"
     ]
    }
   ],
   "source": [
    "# Train the model\n",
    "history = model.fit(X_train, y_train, epochs=10, batch_size=32, validation_data=(X_test, y_test))"
   ]
  },
  {
   "cell_type": "code",
   "execution_count": 9,
   "metadata": {},
   "outputs": [
    {
     "name": "stdout",
     "output_type": "stream",
     "text": [
      "33/33 [==============================] - 0s 3ms/step - loss: 0.1776 - accuracy: 0.9587\n",
      "Validation Accuracy: 0.9587\n"
     ]
    }
   ],
   "source": [
    "# Evaluate the model on the validation set\n",
    "val_loss, val_acc = model.evaluate(X_test, y_test)\n",
    "print(f\"Validation Accuracy: {val_acc:.4f}\")\n"
   ]
  },
  {
   "cell_type": "code",
   "execution_count": 10,
   "metadata": {},
   "outputs": [
    {
     "data": {
      "image/png": "[encoded data removed]",
      "text/plain": [
       "<Figure size 1000x400 with 2 Axes>"
      ]
     },
     "metadata": {},
     "output_type": "display_data"
    }
   ],
   "source": [
    "# Plot accuracy and loss during training\n",
    "plt.figure(figsize=(10, 4))\n",
    "\n",
    "plt.subplot(1, 2, 1)\n",
    "plt.plot(history.history['accuracy'], label='Training Accuracy')\n",
    "plt.plot(history.history['val_accuracy'], label='Validation Accuracy')\n",
    "plt.xlabel('Epoch')\n",
    "plt.ylabel('Accuracy')\n",
    "plt.legend()\n",
    "\n",
    "plt.subplot(1, 2, 2)\n",
    "plt.plot(history.history['loss'], label='Training Loss')\n",
    "plt.plot(history.history['val_loss'], label='Validation Loss')\n",
    "plt.xlabel('Epoch')\n",
    "plt.ylabel('Loss')\n",
    "plt.legend()\n",
    "\n",
    "plt.tight_layout()\n",
    "plt.show()\n"
   ]
  },
  {
   "cell_type": "code",
   "execution_count": 14,
   "metadata": {},
   "outputs": [],
   "source": [
    "model.save(\"models/reduced_data_embeddings.h5\")"
   ]
  }
 ],
 "metadata": {
  "kernelspec": {
   "display_name": "my_env",
   "language": "python",
   "name": "python3"
  },
  "language_info": {
   "codemirror_mode": {
    "name": "ipython",
    "version": 3
   },
   "file_extension": ".py",
   "mimetype": "text/x-python",
   "name": "python",
   "nbconvert_exporter": "python",
   "pygments_lexer": "ipython3",
   "version": "3.9.13"
  },
  "orig_nbformat": 4
 },
 "nbformat": 4,
 "nbformat_minor": 2
}
